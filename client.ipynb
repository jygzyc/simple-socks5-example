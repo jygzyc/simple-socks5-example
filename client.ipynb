{
 "cells": [
  {
   "cell_type": "markdown",
   "metadata": {
    "ExecuteTime": {
     "end_time": "2018-06-16T16:35:20.161231Z",
     "start_time": "2018-06-16T16:35:20.158725Z"
    },
    "heading_collapsed": true
   },
   "source": [
    "# socks协议处理部分"
   ]
  },
  {
   "cell_type": "markdown",
   "metadata": {
    "ExecuteTime": {
     "end_time": "2018-06-18T06:03:56.446638Z",
     "start_time": "2018-06-18T06:03:56.433586Z"
    },
    "hidden": true
   },
   "source": [
    "认证阶段\n",
    "\n",
    "首先客户端需要和服务端有个握手认证的过程，可以采用 用户名/密码 认证或者无需认证方式。\n",
    "\n",
    "格式如下 （数字表示位数）\n",
    "\n",
    "    +----+----------+----------+\n",
    "    |VER | NMETHODS | METHODS  |\n",
    "    +----+----------+----------+\n",
    "    | 1  |    1     |  1~255   |\n",
    "    +----+----------+----------+\n",
    "VER 字段是当前协议的版本号，也就是 5；\n",
    "NMETHODS 字段是 METHODS 字段占用的字节数；\n",
    "METHODS 字段的每一个字节表示一种认证方式，表示客户端支持的全部认证方式。\n",
    "        0x00: NO AUTHENTICATION REQUIRED\n",
    "        0x01: GSSAPI\n",
    "        0x02: USERNAME/PASSWORD\n",
    "        0x03: to X’7F’ IANA ASSIGNED\n",
    "        0x80: to X’FE’ RESERVED FOR PRIVATE METHODS\n",
    "        0xFF: NO ACCEPTABLE METHODS\n",
    "\n",
    "\n",
    "服务端返回格式\n",
    "\n",
    "    +----+--------+\n",
    "    |VER | METHOD |\n",
    "    +----+--------+\n",
    "    | 1  |   1    |\n",
    "    +----+--------+\n",
    "一般情况下服务端返回两种情况\n",
    "\n",
    "0x05 0x00：告诉客户端采用无认证的方式建立连接；\n",
    "\n",
    "0x05 0xff：客户端的任意一种认证方式服务器都不支持。\n",
    "\n",
    "\n",
    "\n",
    "举个例子， 服务器无需认证的情况如下\n",
    "\n",
    "    client -> server: 0x05 0x01 0x00\n",
    "    server -> client: 0x05 0x00\n",
    "\n",
    "\n",
    "连接阶段\n",
    "\n",
    "认证完成，客户端向服务端发送请求：\n",
    "\n",
    "    +----+-----+-------+------+----------+----------+\n",
    "    |VER | CMD |  RSV  | ATYP | DST.ADDR | DST.PORT |\n",
    "    +----+-----+-------+------+----------+----------+\n",
    "    | 1  |  1  |   1   |  1   | Variable |    2     |\n",
    "    +----+-----+-------+------+----------+----------+\n",
    "CMD 字段 command 的缩写：\n",
    "    * 0x01：CONNECT 建立 TCP 连接\n",
    "    * 0x02: BIND 上报反向连接地址\n",
    "    * 0x03：关联 UDP 请求\n",
    "RSV 字段：保留字段，值为 0x00\n",
    "ATYP 字段：address type 的缩写，取值为：\n",
    "    * 0x01：IPv4        \n",
    "    * 0x03：域名\n",
    "    * 0x04：IPv6\n",
    "DST.ADDR 字段：destination address 的缩写，取值随 ATYP 变化：\n",
    "    * ATYP == 0x01：4 个字节的 IPv4 地址\n",
    "    * ATYP == 0x03：1 个字节表示域名长度，紧随其后的是对应的域名\n",
    "    * ATYP == 0x04：16 个字节的 IPv6 地址\n",
    "    * DST.PORT 字段：目的服务器的端口\n",
    "\n",
    "\n",
    "服务端返回格式\n",
    "\n",
    "    +----+-----+-------+------+----------+----------+\n",
    "    |VER | REP |  RSV  | ATYP | BND.ADDR | BND.PORT |\n",
    "    +----+-----+-------+------+----------+----------+\n",
    "    | 1  |  1  |   1   |  1   | Variable |    2     |\n",
    "    +----+-----+-------+------+----------+----------+\n",
    "\n",
    "REP 字段\n",
    "    * X'00' succeeded\n",
    "    * X'01' general SOCKS server failure\n",
    "    * X'02' connection not allowed by ruleset\n",
    "    * X'03' Network unreachable\n",
    "    * X'04' Host unreachable\n",
    "    * X'05' Connection refused\n",
    "    * X'06' TTL expired\n",
    "    * X'07' Command not supported\n",
    "    * X'08' Address type not supported\n",
    "    * X'09' to X'FF' unassigned\n",
    "\n",
    "\n",
    "举个例子，客户端通过 127.0.0.1:8000 的代理发送请求\n",
    "\n",
    "    # request:        VER  CMD  RSV  ATYP DST.ADDR            DST.PORT\n",
    "    client -> server: 0x05 0x01 0x00 0x01 0x7f 0x00 0x00 0x01 0x1f 0x40\n",
    "    # response:       VER  REP  RSV  ATYP BND.ADDR            BND.PORT\n",
    "    server -> client: 0x05 0x00 0x00 0x01 0x00 0x00 0x00 0x00 0x10 0x10\n",
    "\n",
    "\n",
    "传输阶段\n",
    "\n",
    "接下来就开始传输数据，socks5 服务器只做单纯的转发功能\n",
    "\n",
    "整个过程如下\n",
    "\n",
    "    # 认证阶段\n",
    "    client -> server: 0x05 0x01 0x00\n",
    "    server -> client: 0x05 0x00\n",
    "    # 连接阶段\n",
    "    client -> server: 0x05 0x01 0x00 0x03 0x0a b'google.com'  0x00 0x50\n",
    "    server -> client: 0x05 0x00 0x00 0x01 0x00 0x00 0x00 0x00 0x10 0x10\n",
    "    # 传输阶段\n",
    "    client -> server -> remote\n",
    "    remote -> server -> client\n",
    "    ...    \n",
    "\n",
    "\n"
   ]
  },
  {
   "cell_type": "markdown",
   "metadata": {
    "ExecuteTime": {
     "start_time": "2018-06-15T16:44:20.346Z"
    }
   },
   "source": [
    "# 客户端实现"
   ]
  },
  {
   "cell_type": "markdown",
   "metadata": {},
   "source": [
    "### 头文件"
   ]
  },
  {
   "cell_type": "code",
   "execution_count": 28,
   "metadata": {
    "ExecuteTime": {
     "end_time": "2018-06-18T15:06:18.723494Z",
     "start_time": "2018-06-18T15:06:18.716476Z"
    }
   },
   "outputs": [],
   "source": [
    "import socket\n",
    "import socketserver\n",
    "from queue import Queue\n",
    "from time import time,sleep\n",
    "import select\n",
    "import struct\n",
    "import sys\n",
    "import logging\n",
    "import threading\n",
    "import hashlib"
   ]
  },
  {
   "cell_type": "markdown",
   "metadata": {},
   "source": [
    "### socks协议处理部分"
   ]
  },
  {
   "cell_type": "markdown",
   "metadata": {
    "ExecuteTime": {
     "end_time": "2018-06-18T06:18:26.280266Z",
     "start_time": "2018-06-18T06:18:26.272217Z"
    }
   },
   "source": [
    "#### 认证部分"
   ]
  },
  {
   "cell_type": "code",
   "execution_count": 29,
   "metadata": {},
   "outputs": [],
   "source": [
    "def Author(sock, addr):\n",
    "    try:\n",
    "        authentication = struct.pack(\"!B\", 0x05)\n",
    "        which = input(\n",
    "            \"please input which one you choose:\\n1. NO AUTHENTICATION REQUIRED\\n2. USERNAME/PASSWORD\\n3. MIX\")\n",
    "        if(which== 1):\n",
    "            authentication += struct.pack(\"!BB\", 0x01, 0x00)\n",
    "        elif(which== 2):\n",
    "            authentication += struct.pack(\"!BB\", 0x01, 0x02)\n",
    "        elif(which== 3):\n",
    "            authentication += struct.pack(\"!BBB\", 0x02, 0x00, 0x02)\n",
    "        if(authentication.decode() == \"\\x05\"):\n",
    "            print(\"NO CHOOSE ERROR!\")\n",
    "            sock.close()\n",
    "        else:\n",
    "            sock.send(authentication)\n",
    "        version, method = struct.unpack(\"!BB\", sock.recv(256))\n",
    "        if(method == 0xff):\n",
    "            print(\"Authentication failed!\")\n",
    "            sock.close()\n",
    "    except socket.error as se:\n",
    "        print(\"client socket error\")"
   ]
  },
  {
   "cell_type": "markdown",
   "metadata": {},
   "source": [
    "#### 连接部分"
   ]
  },
  {
   "cell_type": "code",
   "execution_count": 30,
   "metadata": {},
   "outputs": [],
   "source": [
    "def connection(sock, addr):    \n",
    "    global CVER, CCMD, CRSV, CATYP\n",
    "    CVER=0x05 \n",
    "    try:\n",
    "        if CRSV != 0x00:\n",
    "            sock.close()\n",
    "            return\n",
    "        if CCMD == 0x01:\n",
    "            if CATYP == 0x01:\n",
    "                desaddr = socket.inet_pton(socket.AF_INET, addr)\n",
    "                data=struct.pack(\"!BBBB\", CVER, CCMD, CRSV, CATYP)+ desaddr\n",
    "            elif CATYP == 0x03:\n",
    "                pass\n",
    "            elif CATYP == 0x04:\n",
    "                pass\n",
    "            else:\n",
    "                return\n",
    "        elif CCMD == 0x02:\n",
    "            pass\n",
    "        elif CCMD == 0x03:\n",
    "            pass\n",
    "        else:\n",
    "            return\n",
    "        sock.send(data)\n",
    "    except struct.error as te:\n",
    "        print(te, \"\\nProxy server struct error!\")\n",
    "    except socket.error as oe:\n",
    "        print(oe, \"\\nsocket error!Please check your proxy server!\")"
   ]
  },
  {
   "cell_type": "code",
   "execution_count": 31,
   "metadata": {},
   "outputs": [],
   "source": [
    "def Author(sock, addr):\n",
    "    aut = sock.recv(256)\n",
    "    DVER, DREP, DRSV, DATYP = struct.unpack(\n",
    "        \"!4B\", aut[0:4])\n",
    "    try:\n",
    "        if(DVER != 0x05):\n",
    "            sock.close()\n",
    "            return\n",
    "        while DVER == 0x05:\n",
    "            if(DREP != 0x00):\n",
    "                sock.close()\n",
    "                break\n",
    "            else:\n",
    "                data=input(\"please input:\") \n",
    "                sock.send(data)\n",
    "    except struct.error as te:\n",
    "        print(te, \"\\nProxy server struct error!\")\n",
    "    except socket.error as oe:\n",
    "        print(oe, \"\\nsocket error!Please check your proxy server!\")"
   ]
  },
  {
   "cell_type": "markdown",
   "metadata": {},
   "source": [
    "### 主函数"
   ]
  },
  {
   "cell_type": "code",
   "execution_count": 32,
   "metadata": {
    "ExecuteTime": {
     "end_time": "2018-06-18T07:04:35.529029Z",
     "start_time": "2018-06-18T07:04:35.526021Z"
    }
   },
   "outputs": [],
   "source": [
    "def main():\n",
    "    sock = socket.socket(socket.AF_INET, socket.SOCK_STREAM)\n",
    "    HOST = \"127.0.0.1\"\n",
    "    PORT = 9900\n",
    "    sock.connect((HOST, PORT))\n",
    "    "
   ]
  },
  {
   "cell_type": "markdown",
   "metadata": {},
   "source": [
    "# 测试代码"
   ]
  },
  {
   "cell_type": "code",
   "execution_count": 33,
   "metadata": {
    "ExecuteTime": {
     "end_time": "2018-06-18T15:24:46.409101Z",
     "start_time": "2018-06-18T15:24:46.405090Z"
    }
   },
   "outputs": [
    {
     "name": "stdout",
     "output_type": "stream",
     "text": [
      "!!\n"
     ]
    }
   ],
   "source": [
    "authentication = struct.pack(\"!BB\",0x05 ,0x00)\n",
    "version, method = struct.unpack(\"!BB\", authentication)\n",
    "if method == 0x00:\n",
    "    print(\"!!\")\n"
   ]
  },
  {
   "cell_type": "code",
   "execution_count": 34,
   "metadata": {
    "ExecuteTime": {
     "end_time": "2018-06-18T15:06:22.898264Z",
     "start_time": "2018-06-18T15:06:20.558007Z"
    }
   },
   "outputs": [
    {
     "ename": "ConnectionRefusedError",
     "evalue": "[WinError 10061] 由于目标计算机积极拒绝，无法连接。",
     "output_type": "error",
     "traceback": [
      "\u001b[1;31m---------------------------------------------------------------------------\u001b[0m",
      "\u001b[1;31mConnectionRefusedError\u001b[0m                    Traceback (most recent call last)",
      "\u001b[1;32m<ipython-input-34-a8f6a7aa014b>\u001b[0m in \u001b[0;36m<module>\u001b[1;34m()\u001b[0m\n\u001b[0;32m      8\u001b[0m \u001b[1;33m\u001b[0m\u001b[0m\n\u001b[0;32m      9\u001b[0m \u001b[1;31m# 连接服务，指定主机和端口\u001b[0m\u001b[1;33m\u001b[0m\u001b[1;33m\u001b[0m\u001b[0m\n\u001b[1;32m---> 10\u001b[1;33m \u001b[0ms\u001b[0m\u001b[1;33m.\u001b[0m\u001b[0mconnect\u001b[0m\u001b[1;33m(\u001b[0m\u001b[1;33m(\u001b[0m\u001b[1;34m\"127.0.0.1\"\u001b[0m\u001b[1;33m,\u001b[0m \u001b[0mport\u001b[0m\u001b[1;33m)\u001b[0m\u001b[1;33m)\u001b[0m\u001b[1;33m\u001b[0m\u001b[0m\n\u001b[0m\u001b[0;32m     11\u001b[0m \u001b[0mx\u001b[0m\u001b[1;33m=\u001b[0m\u001b[0minput\u001b[0m\u001b[1;33m(\u001b[0m\u001b[1;33m)\u001b[0m\u001b[1;33m\u001b[0m\u001b[0m\n\u001b[0;32m     12\u001b[0m \u001b[1;31m# 接收小于 1024 字节的数据\u001b[0m\u001b[1;33m\u001b[0m\u001b[1;33m\u001b[0m\u001b[0m\n",
      "\u001b[1;31mConnectionRefusedError\u001b[0m: [WinError 10061] 由于目标计算机积极拒绝，无法连接。"
     ]
    }
   ],
   "source": [
    "s = socket.socket(socket.AF_INET, socket.SOCK_STREAM) \n",
    "\n",
    "# 获取本地主机名\n",
    "host = socket.gethostname() \n",
    "\n",
    "# 设置端口号\n",
    "port = 9900\n",
    "\n",
    "# 连接服务，指定主机和端口\n",
    "s.connect((\"127.0.0.1\", port))\n",
    "x=input()\n",
    "# 接收小于 1024 字节的数据\n",
    "s.send(x.encode(\"utf8\"))\n",
    "\n",
    "d = s.recv(1024)\n",
    "print(d)\n",
    "s.close()"
   ]
  },
  {
   "cell_type": "code",
   "execution_count": null,
   "metadata": {},
   "outputs": [],
   "source": []
  },
  {
   "cell_type": "code",
   "execution_count": null,
   "metadata": {},
   "outputs": [],
   "source": []
  },
  {
   "cell_type": "code",
   "execution_count": null,
   "metadata": {},
   "outputs": [],
   "source": []
  },
  {
   "cell_type": "code",
   "execution_count": null,
   "metadata": {},
   "outputs": [],
   "source": []
  },
  {
   "cell_type": "code",
   "execution_count": null,
   "metadata": {},
   "outputs": [],
   "source": []
  }
 ],
 "metadata": {
  "kernelspec": {
   "display_name": "Python 3",
   "language": "python",
   "name": "python3"
  },
  "language_info": {
   "codemirror_mode": {
    "name": "ipython",
    "version": 3
   },
   "file_extension": ".py",
   "mimetype": "text/x-python",
   "name": "python",
   "nbconvert_exporter": "python",
   "pygments_lexer": "ipython3",
   "version": "3.6.5"
  }
 },
 "nbformat": 4,
 "nbformat_minor": 2
}
